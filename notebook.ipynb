{
 "cells": [
  {
   "cell_type": "markdown",
   "metadata": {},
   "source": [
    "## Membuat isi file \"main_data.csv\""
   ]
  },
  {
   "cell_type": "code",
   "execution_count": 129,
   "metadata": {},
   "outputs": [],
   "source": [
    "import pandas as pd\n",
    "\n",
    "# Load the datasets\n",
    "customers_data = pd.read_csv('data/E-Commerce Public Dataset/customers_dataset.csv')\n",
    "order_items_data = pd.read_csv('data/E-Commerce Public Dataset/order_items_dataset.csv')\n",
    "order_payments_data = pd.read_csv('data/E-Commerce Public Dataset/order_payments_dataset.csv')\n",
    "order_reviews_data = pd.read_csv('data/E-Commerce Public Dataset/order_reviews_dataset.csv')\n",
    "orders_data = pd.read_csv('data/E-Commerce Public Dataset/orders_dataset.csv')\n",
    "products_data = pd.read_csv('data/E-Commerce Public Dataset/products_dataset.csv')\n",
    "\n",
    "# Merge datasets to create a main dataset\n",
    "main_data = pd.merge(orders_data, customers_data, on='customer_id', how='left')\n",
    "main_data = pd.merge(main_data, order_items_data, on='order_id', how='left')\n",
    "main_data = pd.merge(main_data, order_reviews_data, on='order_id', how='left')\n",
    "main_data = pd.merge(main_data, order_payments_data, on='order_id', how='left')\n",
    "main_data = pd.merge(main_data, products_data, on='product_id', how='left')\n",
    "\n",
    "# Save the merged dataset to 'main_data.csv'\n",
    "main_data.to_csv('dashboard/main_data.csv', index=False)"
   ]
  }
 ],
 "metadata": {
  "kernelspec": {
   "display_name": "env",
   "language": "python",
   "name": "python3"
  },
  "language_info": {
   "codemirror_mode": {
    "name": "ipython",
    "version": 3
   },
   "file_extension": ".py",
   "mimetype": "text/x-python",
   "name": "python",
   "nbconvert_exporter": "python",
   "pygments_lexer": "ipython3",
   "version": "3.9.18"
  }
 },
 "nbformat": 4,
 "nbformat_minor": 2
}
